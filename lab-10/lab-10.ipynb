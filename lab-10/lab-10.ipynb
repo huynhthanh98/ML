{
  "nbformat": 4,
  "nbformat_minor": 0,
  "metadata": {
    "colab": {
      "name": "lab-10",
      "provenance": [],
      "collapsed_sections": []
    },
    "language_info": {
      "codemirror_mode": {
        "name": "ipython",
        "version": 3
      },
      "file_extension": ".py",
      "mimetype": "text/x-python",
      "name": "python",
      "nbconvert_exporter": "python",
      "pygments_lexer": "ipython3",
      "version": "3.7.2"
    },
    "kernelspec": {
      "display_name": "Python 3",
      "language": "python",
      "name": "python3"
    }
  },
  "cells": [
    {
      "cell_type": "markdown",
      "metadata": {
        "id": "O3ieo-Mg54rt"
      },
      "source": [
        "# SVM"
      ]
    },
    {
      "cell_type": "markdown",
      "metadata": {
        "id": "11sr7nGT54ry"
      },
      "source": [
        "Trong notebook này, chúng ta sẽ chạy SVM trong dataset nhỏ"
      ]
    },
    {
      "cell_type": "markdown",
      "metadata": {
        "id": "DWyLTZYn54rz"
      },
      "source": [
        "Hàm sau đây có nhiệm vụ nhận một data 2 chiều, label của nó và một hàm predict của model. Hàm có nhiệm vụ vẽ data, mỗi label có một kĩ hiệu riêng, đồng thời vẽ miền quyết định của classifier\n",
        "* `display_data_and_boundary(x,y,pred_fn)`\n",
        "\n",
        "trong đó\n",
        "* `x` và `y` là data 2 chiều và label tương ứng (label thuộc `0,...,k-1`)\n",
        "* `pred_fn` là classifier, là một hàm nhận input và trả về prediction"
      ]
    },
    {
      "cell_type": "code",
      "metadata": {
        "id": "GwiZI24ItI4R"
      },
      "source": [
        "from google.colab import drive\n",
        "import os\n",
        "import warnings\n",
        "warnings.filterwarnings('ignore')\n",
        "import matplotlib.pyplot as plt\n",
        "import numpy as np"
      ],
      "execution_count": null,
      "outputs": []
    },
    {
      "cell_type": "code",
      "metadata": {
        "id": "ThkoXYa454r0"
      },
      "source": [
        "def display_data_and_boundary(x,y,pred_fn):  \n",
        "    # Determine the x1- and x2- limits of the plot\n",
        "    x1min = min(x[:,0]) - 1\n",
        "    x1max = max(x[:,0]) + 1\n",
        "    x2min = min(x[:,1]) - 1\n",
        "    x2max = max(x[:,1]) + 1\n",
        "    plt.xlim(x1min,x1max)\n",
        "    plt.ylim(x2min,x2max)\n",
        "    # Plot the data points\n",
        "    k = int(max(y)) + 1\n",
        "    cols = ['ro', 'k^', 'b*','gx']\n",
        "    for label in range(k):\n",
        "        plt.plot(x[(y==label),0], x[(y==label),1], cols[label%4], markersize=8)\n",
        "        \n",
        "    # Construct a grid of points at which to evaluate the classifier\n",
        "    grid_spacing = 0.05\n",
        "    xx1, xx2 = np.meshgrid(np.arange(x1min, x1max, grid_spacing), np.arange(x2min, x2max, grid_spacing))\n",
        "    grid = np.c_[xx1.ravel(), xx2.ravel()]\n",
        "    Z = np.array([pred_fn(pt) for pt in grid])\n",
        "    # Show the classifier's boundary using a color plot\n",
        "    Z = Z.reshape(xx1.shape)\n",
        "    plt.pcolormesh(xx1, xx2, Z, cmap=plt.cm.Pastel1, vmin=0, vmax=k)\n",
        "    plt.show()"
      ],
      "execution_count": null,
      "outputs": []
    },
    {
      "cell_type": "markdown",
      "metadata": {
        "id": "x2XHWwUk54r4"
      },
      "source": [
        "## Thí nghiệm với SVM"
      ]
    },
    {
      "cell_type": "markdown",
      "metadata": {
        "id": "eOkz2mGc54r5"
      },
      "source": [
        "Giờ chạy thử SVM và vẽ ra. Lưu ý đối với việc dùng các kernels như linear, polynomial ta chỉ cần quan tâm đến tham số C. Còn kernel rbf ta sẽ quan tâm thêm đến tham số $gamma$\n",
        "\n",
        "Khi $gamma$ càng lớn thì sẽ dẫn đến việc model sẽ chọn ra các miền quyết định quá khớp với dữ liệu huấn luyện\n",
        "\n"
      ]
    },
    {
      "cell_type": "code",
      "metadata": {
        "colab": {
          "base_uri": "https://localhost:8080/",
          "height": 265
        },
        "id": "_1paQ83eARr0",
        "outputId": "0f115c36-844d-4443-dad3-05638622d1d8"
      },
      "source": [
        "# Load IRIS data\n",
        "from sklearn import datasets\n",
        "iris = datasets.load_iris()\n",
        "from sklearn.svm import SVC\n",
        "x = iris.data\n",
        "y = iris.target\n",
        "\n",
        "# Chọn ra 2 features để dễ vẽ hình\n",
        "features = [0,1]\n",
        "x = x[:,features]\n",
        "\n",
        "# Train SVM với kernel linear\n",
        "clf = SVC(C = 1,kernel=\"linear\")\n",
        "clf.fit(x,y)\n",
        "pred_fn = lambda p: clf.predict(p.reshape(1,-1))\n",
        "display_data_and_boundary(x,y,pred_fn)"
      ],
      "execution_count": null,
      "outputs": [
        {
          "output_type": "display_data",
          "data": {
            "image/png": "[encoded data removed]",
            "text/plain": [
              "<Figure size 432x288 with 1 Axes>"
            ]
          },
          "metadata": {
            "tags": [],
            "needs_background": "light"
          }
        }
      ]
    },
    {
      "cell_type": "code",
      "metadata": {
        "colab": {
          "base_uri": "https://localhost:8080/",
          "height": 265
        },
        "id": "un3475YOEBPs",
        "outputId": "7cafee11-abd8-4ee6-d15d-aa83d4996811"
      },
      "source": [
        "#Sử dụng kernel rbf với gamma lớn, ta có thể thấy các miền quyết định gần như fit vào các điểm dữ liệu\n",
        "clf = svm.SVC(C = 1, kernel=\"rbf\",gamma=100)\n",
        "clf.fit(x,y)\n",
        "pred_fn = lambda p: clf.predict(p.reshape(1,-1))\n",
        "display_data_and_boundary(x,y,pred_fn)"
      ],
      "execution_count": null,
      "outputs": [
        {
          "output_type": "display_data",
          "data": {
            "image/png": "[encoded data removed]",
            "text/plain": [
              "<Figure size 432x288 with 1 Axes>"
            ]
          },
          "metadata": {
            "tags": [],
            "needs_background": "light"
          }
        }
      ]
    },
    {
      "cell_type": "code",
      "metadata": {
        "colab": {
          "base_uri": "https://localhost:8080/",
          "height": 265
        },
        "id": "WegyW011aKHv",
        "outputId": "6d15ee80-63f3-4a8f-a3ea-f29c13c8ea82"
      },
      "source": [
        "#Sử dụng kernel rbf, với gamma nhỏ ta thấy miền quyết định rộng hơn\n",
        "from sklearn import svm\n",
        "clf = svm.SVC(C = 1, kernel=\"rbf\",gamma=0.5)\n",
        "clf.fit(x,y)\n",
        "pred_fn = lambda p: clf.predict(p.reshape(1,-1))\n",
        "display_data_and_boundary(x,y,pred_fn)"
      ],
      "execution_count": null,
      "outputs": [
        {
          "output_type": "display_data",
          "data": {
            "image/png": "[encoded data removed]",
            "text/plain": [
              "<Figure size 432x288 with 1 Axes>"
            ]
          },
          "metadata": {
            "tags": [],
            "needs_background": "light"
          }
        }
      ]
    },
    {
      "cell_type": "markdown",
      "metadata": {
        "id": "JJp57CO5CHf8"
      },
      "source": [
        "#Bài Tập \n",
        "1. Thử chạy SVM trên 2 files data_3.txt và data_4.txt với C=[0.1, 1.0, 10.0, 100.0]\n",
        "\n",
        "2. Nhận xét với từng $C$ khác nhau thì mô hình thay đổi như thế nào\n",
        "\n",
        "3. Nêu lợi và hại khi tăng $gamma$ và giảm $gamma$\n"
      ]
    },
    {
      "cell_type": "code",
      "metadata": {
        "id": "NTs-81eXX1rR"
      },
      "source": [
        "#Tải File\n",
        "!wget https://raw.githubusercontent.com/huynhthanh98/ML/master/lab-10/data_3.txt #tải file data_3\n",
        "!wget https://raw.githubusercontent.com/huynhthanh98/ML/master/lab-10/data_4.txt #tải file data_4"
      ],
      "execution_count": null,
      "outputs": []
    },
    {
      "cell_type": "code",
      "metadata": {
        "id": "_-6dMZUEA5fZ"
      },
      "source": [
        "#Đọc file data_3.txt\n",
        "data = np.loadtxt(\"data_3.txt\")\n",
        "# Tạo training set x và label y\n",
        "x = data[:,0:2]\n",
        "y = data[:,2]"
      ],
      "execution_count": null,
      "outputs": []
    }
  ]
}