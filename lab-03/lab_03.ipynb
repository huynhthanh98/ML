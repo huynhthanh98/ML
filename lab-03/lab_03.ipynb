{
  "nbformat": 4,
  "nbformat_minor": 0,
  "metadata": {
    "colab": {
      "name": "Copy of lab_03.ipynb",
      "provenance": [],
      "collapsed_sections": [],
      "toc_visible": true
    },
    "kernelspec": {
      "name": "python3",
      "display_name": "Python 3"
    },
    "language_info": {
      "name": "python"
    }
  },
  "cells": [
    {
      "cell_type": "markdown",
      "metadata": {
        "id": "C_DtPuBUEORG"
      },
      "source": [
        "#Logistic Regresion\n",
        "Ta định nghĩa với mọi $t \\in R$ thì hàm sigmoid được định nghĩa như sau:\n",
        "$$f(t)=\\frac{1}{1+\\epsilon^{-t}}$$\n",
        "$x_i \\in R^{n \\times 1}$ là một sample thứ $i$ trong tập dữ liệu,  $y_i \\in R^{1 \\times 1}$ là class của sample thứ $i$, $W \\in R^{n \\times 1}$ là trọng số mà ta cần tìm, ta có:\n",
        "\n",
        "$$\\hat{y_i}=f(x_i^TW)$$\n",
        "\n",
        "Ta định nghĩa hàm Loss như sau:\n",
        "\n",
        "$$Loss=\\frac{1}{N}\\sum^N-Ylog[f(X^TW)]-(1-Y)log[1-f(X^TW)]$$\n",
        "\n",
        "Với $X \\in R^{n \\times 1}$, $Y \\in R^{n \\times 1}$, $W \\in R^{n \\times 1}$.\n",
        "\n",
        "Đặt $Z=f(X^TW)$, ta có\n",
        "$$\\nabla_W Loss = -\\frac{1}{N} \\sum^N(\\frac{Y}{Z}-\\frac{1-Y}{1-Z})\\frac{\\partial Z}{\\partial W}$$\n",
        "\n",
        "Mà: $\\frac{\\partial Z}{\\partial W}=Z(1-Z)X$ nên:\n",
        "\n",
        "$$\\nabla_W Loss = -\\frac{1}{N} \\sum^N(Y-Z)X$$\n",
        "\n",
        "suy ra: \n",
        "$$W:=W-lr\\frac{1}{N} \\sum^N(Z-Y)X$$\n",
        "\n",
        "\n",
        "\n"
      ]
    },
    {
      "cell_type": "markdown",
      "metadata": {
        "id": "CiP_kwLj9fXN"
      },
      "source": [
        "#Softmax Regression\n",
        "Ta hàm softmax như sau:\n",
        "$$a_i=\\frac{e^{X^Tw_i}}{\\sum_{j=1}^Ce^{X^Tw_i}}$$\n",
        "\n",
        "Với $w_i$ chính là trọng số cho hàm softmax của class thứ $i$. Nghĩa là với class thứ $i$ ta tương ứng có $a_i$ là hàm dự đoán xác xuất để sample $x_i$ rơi vào class này. $W=[w_1,w_2,...,w_C]$ là ma trận trọng số cần tìm, $W \\in R^{n \\times C}$, Với C là số Classes có trong dữ liệu\n",
        "\n",
        "Ngoài ta ta phải đổi y từ dạng scaler sang vector theo onehot encoding, tức là:\n",
        "$$y=[y_1,y_2,...,y_C]$$ \n",
        "với $\\sum_{i=1}^Cy_i=1$\n",
        "\n",
        "\n",
        "Ta định nghĩa hàm Loss như sau:\n",
        "\n",
        "$$Loss=\\frac{1}{N} \\sum^N(-\\sum_{i=1}^C y_i log(\\frac{e^{x^Tw_i}}{\\sum_j^Ce^{x^Tw_j}})) $$\n",
        "\n",
        "$$Loss=\\frac{1}{N} \\sum^N(-\\sum_{i=1}^C (y_ix^Tw_i-y_ilog(\\sum_j^Ce^{x^Tw_j}))) $$\n",
        "\n",
        "$$Loss=\\frac{1}{N} \\sum^N(-\\sum_{i=1}^C (y_ix^Tw_i) +log(\\sum_j^Ce^{x^Tw_j})) $$\n",
        "\n",
        "Gradient:\n",
        "$$\\nabla_W Loss = [\\frac{\\partial Loss}{\\partial w_1}, \\frac{\\partial Loss}{\\partial w_2},...,\\frac{\\partial Loss}{\\partial w_C}]$$\n",
        "\n",
        "Với $\\frac{\\partial Loss}{\\partial w_i}=\\frac{1}{N} \\sum^N(-y_i+\\frac{e^{x^Tw_i}}{\\sum_j^Ce^{x^Tw_j}})x$\n",
        "\n",
        "Từ đây ta có công thức cập nhật:\n",
        "\n",
        "$$W:= W- lr\\nabla_W Loss $$"
      ]
    },
    {
      "cell_type": "code",
      "metadata": {
        "id": "UpfabBedEKO8"
      },
      "source": [
        "import pandas as pd\n",
        "import numpy as np\n",
        "from sklearn.model_selection import train_test_split"
      ],
      "execution_count": null,
      "outputs": []
    },
    {
      "cell_type": "markdown",
      "metadata": {
        "id": "iBoTD6c7upP8"
      },
      "source": [
        "- Data này là dùng các features như tuổi, giới tính, lượng cholesterol để dự đoán bệnh nhân có bị mắc bệnh tim mạch hay không.\n",
        "\n",
        "- target gồm 2 label 1 và 0 tương ứng là mắc bệnh hay không mắc bệnh."
      ]
    },
    {
      "cell_type": "code",
      "metadata": {
        "colab": {
          "base_uri": "https://localhost:8080/",
          "height": 402
        },
        "id": "bZekOggLERe0",
        "outputId": "67de2f46-5453-47c7-c653-b6a928fee258"
      },
      "source": [
        "data=pd.read_csv(\"https://raw.githubusercontent.com/huynhthanh98/ML/master/lab-03/heart.csv\")\n",
        "data"
      ],
      "execution_count": null,
      "outputs": [
        {
          "output_type": "execute_result",
          "data": {
            "text/html": [
              "<div>\n",
              "<style scoped>\n",
              "    .dataframe tbody tr th:only-of-type {\n",
              "        vertical-align: middle;\n",
              "    }\n",
              "\n",
              "    .dataframe tbody tr th {\n",
              "        vertical-align: top;\n",
              "    }\n",
              "\n",
              "    .dataframe thead th {\n",
              "        text-align: right;\n",
              "    }\n",
              "</style>\n",
              "<table border=\"1\" class=\"dataframe\">\n",
              "  <thead>\n",
              "    <tr style=\"text-align: right;\">\n",
              "      <th></th>\n",
              "      <th>age</th>\n",
              "      <th>sex</th>\n",
              "      <th>cp</th>\n",
              "      <th>trestbps</th>\n",
              "      <th>chol</th>\n",
              "      <th>fbs</th>\n",
              "      <th>restecg</th>\n",
              "      <th>thalach</th>\n",
              "      <th>exang</th>\n",
              "      <th>oldpeak</th>\n",
              "      <th>slope</th>\n",
              "      <th>ca</th>\n",
              "      <th>thal</th>\n",
              "      <th>target</th>\n",
              "    </tr>\n",
              "  </thead>\n",
              "  <tbody>\n",
              "    <tr>\n",
              "      <th>0</th>\n",
              "      <td>63</td>\n",
              "      <td>1</td>\n",
              "      <td>3</td>\n",
              "      <td>145</td>\n",
              "      <td>233</td>\n",
              "      <td>1</td>\n",
              "      <td>0</td>\n",
              "      <td>150</td>\n",
              "      <td>0</td>\n",
              "      <td>2.3</td>\n",
              "      <td>0</td>\n",
              "      <td>0</td>\n",
              "      <td>1</td>\n",
              "      <td>1</td>\n",
              "    </tr>\n",
              "    <tr>\n",
              "      <th>1</th>\n",
              "      <td>37</td>\n",
              "      <td>1</td>\n",
              "      <td>2</td>\n",
              "      <td>130</td>\n",
              "      <td>250</td>\n",
              "      <td>0</td>\n",
              "      <td>1</td>\n",
              "      <td>187</td>\n",
              "      <td>0</td>\n",
              "      <td>3.5</td>\n",
              "      <td>0</td>\n",
              "      <td>0</td>\n",
              "      <td>2</td>\n",
              "      <td>1</td>\n",
              "    </tr>\n",
              "    <tr>\n",
              "      <th>2</th>\n",
              "      <td>41</td>\n",
              "      <td>0</td>\n",
              "      <td>1</td>\n",
              "      <td>130</td>\n",
              "      <td>204</td>\n",
              "      <td>0</td>\n",
              "      <td>0</td>\n",
              "      <td>172</td>\n",
              "      <td>0</td>\n",
              "      <td>1.4</td>\n",
              "      <td>2</td>\n",
              "      <td>0</td>\n",
              "      <td>2</td>\n",
              "      <td>1</td>\n",
              "    </tr>\n",
              "    <tr>\n",
              "      <th>3</th>\n",
              "      <td>56</td>\n",
              "      <td>1</td>\n",
              "      <td>1</td>\n",
              "      <td>120</td>\n",
              "      <td>236</td>\n",
              "      <td>0</td>\n",
              "      <td>1</td>\n",
              "      <td>178</td>\n",
              "      <td>0</td>\n",
              "      <td>0.8</td>\n",
              "      <td>2</td>\n",
              "      <td>0</td>\n",
              "      <td>2</td>\n",
              "      <td>1</td>\n",
              "    </tr>\n",
              "    <tr>\n",
              "      <th>4</th>\n",
              "      <td>57</td>\n",
              "      <td>0</td>\n",
              "      <td>0</td>\n",
              "      <td>120</td>\n",
              "      <td>354</td>\n",
              "      <td>0</td>\n",
              "      <td>1</td>\n",
              "      <td>163</td>\n",
              "      <td>1</td>\n",
              "      <td>0.6</td>\n",
              "      <td>2</td>\n",
              "      <td>0</td>\n",
              "      <td>2</td>\n",
              "      <td>1</td>\n",
              "    </tr>\n",
              "    <tr>\n",
              "      <th>...</th>\n",
              "      <td>...</td>\n",
              "      <td>...</td>\n",
              "      <td>...</td>\n",
              "      <td>...</td>\n",
              "      <td>...</td>\n",
              "      <td>...</td>\n",
              "      <td>...</td>\n",
              "      <td>...</td>\n",
              "      <td>...</td>\n",
              "      <td>...</td>\n",
              "      <td>...</td>\n",
              "      <td>...</td>\n",
              "      <td>...</td>\n",
              "      <td>...</td>\n",
              "    </tr>\n",
              "    <tr>\n",
              "      <th>298</th>\n",
              "      <td>57</td>\n",
              "      <td>0</td>\n",
              "      <td>0</td>\n",
              "      <td>140</td>\n",
              "      <td>241</td>\n",
              "      <td>0</td>\n",
              "      <td>1</td>\n",
              "      <td>123</td>\n",
              "      <td>1</td>\n",
              "      <td>0.2</td>\n",
              "      <td>1</td>\n",
              "      <td>0</td>\n",
              "      <td>3</td>\n",
              "      <td>0</td>\n",
              "    </tr>\n",
              "    <tr>\n",
              "      <th>299</th>\n",
              "      <td>45</td>\n",
              "      <td>1</td>\n",
              "      <td>3</td>\n",
              "      <td>110</td>\n",
              "      <td>264</td>\n",
              "      <td>0</td>\n",
              "      <td>1</td>\n",
              "      <td>132</td>\n",
              "      <td>0</td>\n",
              "      <td>1.2</td>\n",
              "      <td>1</td>\n",
              "      <td>0</td>\n",
              "      <td>3</td>\n",
              "      <td>0</td>\n",
              "    </tr>\n",
              "    <tr>\n",
              "      <th>300</th>\n",
              "      <td>68</td>\n",
              "      <td>1</td>\n",
              "      <td>0</td>\n",
              "      <td>144</td>\n",
              "      <td>193</td>\n",
              "      <td>1</td>\n",
              "      <td>1</td>\n",
              "      <td>141</td>\n",
              "      <td>0</td>\n",
              "      <td>3.4</td>\n",
              "      <td>1</td>\n",
              "      <td>2</td>\n",
              "      <td>3</td>\n",
              "      <td>0</td>\n",
              "    </tr>\n",
              "    <tr>\n",
              "      <th>301</th>\n",
              "      <td>57</td>\n",
              "      <td>1</td>\n",
              "      <td>0</td>\n",
              "      <td>130</td>\n",
              "      <td>131</td>\n",
              "      <td>0</td>\n",
              "      <td>1</td>\n",
              "      <td>115</td>\n",
              "      <td>1</td>\n",
              "      <td>1.2</td>\n",
              "      <td>1</td>\n",
              "      <td>1</td>\n",
              "      <td>3</td>\n",
              "      <td>0</td>\n",
              "    </tr>\n",
              "    <tr>\n",
              "      <th>302</th>\n",
              "      <td>57</td>\n",
              "      <td>0</td>\n",
              "      <td>1</td>\n",
              "      <td>130</td>\n",
              "      <td>236</td>\n",
              "      <td>0</td>\n",
              "      <td>0</td>\n",
              "      <td>174</td>\n",
              "      <td>0</td>\n",
              "      <td>0.0</td>\n",
              "      <td>1</td>\n",
              "      <td>1</td>\n",
              "      <td>2</td>\n",
              "      <td>0</td>\n",
              "    </tr>\n",
              "  </tbody>\n",
              "</table>\n",
              "<p>303 rows × 14 columns</p>\n",
              "</div>"
            ],
            "text/plain": [
              "     age  sex  cp  trestbps  chol  fbs  ...  exang  oldpeak  slope  ca  thal  target\n",
              "0     63    1   3       145   233    1  ...      0      2.3      0   0     1       1\n",
              "1     37    1   2       130   250    0  ...      0      3.5      0   0     2       1\n",
              "2     41    0   1       130   204    0  ...      0      1.4      2   0     2       1\n",
              "3     56    1   1       120   236    0  ...      0      0.8      2   0     2       1\n",
              "4     57    0   0       120   354    0  ...      1      0.6      2   0     2       1\n",
              "..   ...  ...  ..       ...   ...  ...  ...    ...      ...    ...  ..   ...     ...\n",
              "298   57    0   0       140   241    0  ...      1      0.2      1   0     3       0\n",
              "299   45    1   3       110   264    0  ...      0      1.2      1   0     3       0\n",
              "300   68    1   0       144   193    1  ...      0      3.4      1   2     3       0\n",
              "301   57    1   0       130   131    0  ...      1      1.2      1   1     3       0\n",
              "302   57    0   1       130   236    0  ...      0      0.0      1   1     2       0\n",
              "\n",
              "[303 rows x 14 columns]"
            ]
          },
          "metadata": {
            "tags": []
          },
          "execution_count": 608
        }
      ]
    },
    {
      "cell_type": "markdown",
      "metadata": {
        "id": "p_tGpMq5_-pz"
      },
      "source": [
        "#Demo logistic regression"
      ]
    },
    {
      "cell_type": "code",
      "metadata": {
        "id": "ec1A3NCeAEQg"
      },
      "source": [
        "X_train, X_test, y_train, y_test = train_test_split(data.loc[:,\"chol\"].values, data.loc[:,\"target\"].values, test_size=0.33, random_state=42)\n",
        "\n",
        "min=np.min(X_train,axis=0)\n",
        "max=np.max(X_train,axis=0)\n",
        "X_train=(X_train-min)/(max -min)\n",
        "\n",
        "X_test=(X_test-min)/(max-min)\n",
        "\n"
      ],
      "execution_count": null,
      "outputs": []
    },
    {
      "cell_type": "code",
      "metadata": {
        "id": "yRlEcL9nBGH6"
      },
      "source": [
        "#Vì chỉ lấy có 1 biến nên phải reshape X_train và X_test\n",
        "X_train=X_train.reshape([-1,1])\n",
        "X_test=X_test.reshape([-1,1])\n",
        "\n",
        "y_train=y_train.reshape([-1,1])\n",
        "y_test=y_test.reshape([-1,1])"
      ],
      "execution_count": null,
      "outputs": []
    },
    {
      "cell_type": "code",
      "metadata": {
        "id": "oNpSHQ_kAb2Y"
      },
      "source": [
        "#Hàm sigmoid\n",
        "def sigmoid(W,X):\n",
        "  \"\"\"\n",
        "  W là trọng số\n",
        "  X là sample(s)\n",
        "  \"\"\"\n",
        "\n",
        "  return 1/(1+np.exp((-np.matmul(X,W))))\n"
      ],
      "execution_count": null,
      "outputs": []
    },
    {
      "cell_type": "code",
      "metadata": {
        "colab": {
          "base_uri": "https://localhost:8080/"
        },
        "id": "YKHUuUhmAe-5",
        "outputId": "1f22c53d-b17c-4060-a9ed-a5b74b4c2dc2"
      },
      "source": [
        "#Thêm 1 cột những số 1 vào X_train\n",
        "X_train_bar=np.concatenate([np.ones([X_train.shape[0],1]),X_train],axis=1)\n",
        "X_train_bar.shape"
      ],
      "execution_count": null,
      "outputs": [
        {
          "output_type": "execute_result",
          "data": {
            "text/plain": [
              "(203, 2)"
            ]
          },
          "metadata": {
            "tags": []
          },
          "execution_count": 439
        }
      ]
    },
    {
      "cell_type": "code",
      "metadata": {
        "colab": {
          "base_uri": "https://localhost:8080/"
        },
        "id": "a42hhlbMAu7t",
        "outputId": "2221dc82-d28e-4c79-8e43-734e6aa8edc7"
      },
      "source": [
        "lr=0.0001\n",
        "#W_init=np.random.rand(14,1)\n",
        "#W_init=np.array([[ 2.23789173],\n",
        "#       [-0.96136103]]) #Đây là khởi tạo\n",
        "\n",
        "W_init=np.zeros([X_train_bar.shape[1],1])\n",
        "\"\"\"W_init=np.array([[ 0.38652764],\n",
        "       [-1.0147613 ]]) #lưu ý đây là W_init gần với W cần tìm để chạy cho nhanh\n",
        "       \"\"\"\n",
        "X_train_bar=np.concatenate([np.ones([X_train.shape[0],1]),X_train],axis=1)\n",
        "\n",
        "list_W=[W_init]\n",
        "list_error=[10]\n",
        "for epoch in range(50000):\n",
        "  W=list_W[-1]\n",
        "  prediction=sigmoid(W,X_train_bar) # Dự đoán\n",
        "\n",
        "  error=-np.mean((y_train*np.log(prediction)+(1-y_train)*np.log(1-prediction)),axis=0) #Tính error\n",
        "\n",
        "  gradient=np.mean((prediction-y_train)*X_train_bar,axis=0) #Tính Gradient\n",
        "  gradient=gradient.reshape(-1,1)\n",
        "  \n",
        "  W=W-lr*gradient #cập nhật W\n",
        "\n",
        "  list_W.append(W)\n",
        "  list_error.append(error)\n",
        "  if epoch % 1000==0:\n",
        "    print(list_error[-1])\n",
        "  \n"
      ],
      "execution_count": null,
      "outputs": [
        {
          "output_type": "stream",
          "text": [
            "[0.69314718]\n",
            "[0.69307243]\n",
            "[0.69300157]\n",
            "[0.69293441]\n",
            "[0.69287075]\n",
            "[0.6928104]\n",
            "[0.6927532]\n",
            "[0.69269898]\n",
            "[0.69264758]\n",
            "[0.69259886]\n",
            "[0.69255267]\n",
            "[0.69250889]\n",
            "[0.69246738]\n",
            "[0.69242803]\n",
            "[0.69239073]\n",
            "[0.69235536]\n",
            "[0.69232183]\n",
            "[0.69229004]\n",
            "[0.6922599]\n",
            "[0.69223133]\n",
            "[0.69220423]\n",
            "[0.69217854]\n",
            "[0.69215418]\n",
            "[0.69213108]\n",
            "[0.69210917]\n",
            "[0.6920884]\n",
            "[0.6920687]\n",
            "[0.69205002]\n",
            "[0.6920323]\n",
            "[0.6920155]\n",
            "[0.69199956]\n",
            "[0.69198444]\n",
            "[0.6919701]\n",
            "[0.69195649]\n",
            "[0.69194358]\n",
            "[0.69193134]\n",
            "[0.69191972]\n",
            "[0.6919087]\n",
            "[0.69189824]\n",
            "[0.69188831]\n",
            "[0.69187889]\n",
            "[0.69186995]\n",
            "[0.69186146]\n",
            "[0.6918534]\n",
            "[0.69184576]\n",
            "[0.69183849]\n",
            "[0.6918316]\n",
            "[0.69182505]\n",
            "[0.69181884]\n",
            "[0.69181293]\n"
          ],
          "name": "stdout"
        }
      ]
    },
    {
      "cell_type": "code",
      "metadata": {
        "colab": {
          "base_uri": "https://localhost:8080/"
        },
        "id": "d7EtJmYwBizx",
        "outputId": "a184498c-761a-4ad7-8806-d97d9eb36915"
      },
      "source": [
        "#test\n",
        "X_test_bar=np.concatenate([np.ones([X_test.shape[0],1]),X_test],axis=1)\n",
        "a=sigmoid(W,X_test_bar)\n",
        "np.mean(np.where(a>0.5,1,0)==y_test)"
      ],
      "execution_count": null,
      "outputs": [
        {
          "output_type": "execute_result",
          "data": {
            "text/plain": [
              "0.58"
            ]
          },
          "metadata": {
            "tags": []
          },
          "execution_count": 616
        }
      ]
    },
    {
      "cell_type": "code",
      "metadata": {
        "colab": {
          "base_uri": "https://localhost:8080/"
        },
        "id": "KTVft7G9NvbB",
        "outputId": "b5fb2a10-2eb6-4932-8438-15168eed4861"
      },
      "source": [
        "#Kiểm tra lại\n",
        "from sklearn.linear_model import LogisticRegression\n",
        "clf = LogisticRegression(random_state=0).fit(X_train, y_train)\n",
        "clf.score(X_test,y_test)"
      ],
      "execution_count": null,
      "outputs": [
        {
          "output_type": "stream",
          "text": [
            "/usr/local/lib/python3.7/dist-packages/sklearn/utils/validation.py:760: DataConversionWarning: A column-vector y was passed when a 1d array was expected. Please change the shape of y to (n_samples, ), for example using ravel().\n",
            "  y = column_or_1d(y, warn=True)\n"
          ],
          "name": "stderr"
        },
        {
          "output_type": "execute_result",
          "data": {
            "text/plain": [
              "0.58"
            ]
          },
          "metadata": {
            "tags": []
          },
          "execution_count": 617
        }
      ]
    },
    {
      "cell_type": "markdown",
      "metadata": {
        "id": "xsRfgQ08RDIa"
      },
      "source": [
        "#Demo Softmax"
      ]
    },
    {
      "cell_type": "code",
      "metadata": {
        "id": "Av2XPJABRAMR"
      },
      "source": [
        "train=pd.read_csv(\"https://raw.githubusercontent.com/dinhvietcuong1996/Lab-MachineLearningCourse/master/Lab03/bt_train.csv\")\n",
        "test=pd.read_csv('https://raw.githubusercontent.com/dinhvietcuong1996/Lab-MachineLearningCourse/master/Lab03/bt_valid.csv')\n",
        "\n",
        "X_train=train.loc[:,[\"x1\",\"x2\"]].values\n",
        "X_test=test.loc[:,[\"x1\",\"x2\"]].values\n",
        "\n",
        "y_train=train.loc[:,'label'].values.reshape(-1,1)\n",
        "y_test=test.loc[:,'label'].values.reshape(-1,1)\n"
      ],
      "execution_count": null,
      "outputs": []
    },
    {
      "cell_type": "markdown",
      "metadata": {
        "id": "WOgqfNVqu_yc"
      },
      "source": [
        "- Data này gồm 2 features là x1 và x2\n",
        "- label gồm 2 class là 1, 2, 3"
      ]
    },
    {
      "cell_type": "code",
      "metadata": {
        "id": "o5BUK4k4VLPV"
      },
      "source": [
        "#onehot\n",
        "y_train_onehot = np.zeros( (y_train.sizes, y_train.max() + 1),dtype=int)\n",
        "y_train_onehot[np.arange(y_train.size), y_train.reshape(-1)] = 1\n",
        "\n",
        "y_test_onehot = np.zeros( (y_test.size, y_test.max() + 1) ,dtype=int)\n",
        "y_test_onehot[np.arange(y_test.size), y_test.reshape(-1)] = 1"
      ],
      "execution_count": null,
      "outputs": []
    },
    {
      "cell_type": "code",
      "metadata": {
        "id": "alcCBtABToub"
      },
      "source": [
        "#Normalizaition\n",
        "min=np.min(X_train,axis=0)\n",
        "max=np.max(X_train,axis=0)\n",
        "X_train=(X_train-min)/(max-min)\n",
        "X_test=(X_test-min)/(max-min)"
      ],
      "execution_count": null,
      "outputs": []
    },
    {
      "cell_type": "code",
      "metadata": {
        "colab": {
          "base_uri": "https://localhost:8080/"
        },
        "id": "lSUKDNtrTzOh",
        "outputId": "5ceedbaa-78fc-46c5-e254-dc5c2f16e0d1"
      },
      "source": [
        "X_train_bar=np.concatenate([np.ones([X_train.shape[0],1]),X_train],axis=1)\n",
        "X_test_bar=np.concatenate([np.ones([X_test.shape[0],1]),X_test],axis=1)\n",
        "X_test_bar.shape"
      ],
      "execution_count": null,
      "outputs": [
        {
          "output_type": "execute_result",
          "data": {
            "text/plain": [
              "(300, 3)"
            ]
          },
          "metadata": {
            "tags": []
          },
          "execution_count": 584
        }
      ]
    },
    {
      "cell_type": "code",
      "metadata": {
        "colab": {
          "base_uri": "https://localhost:8080/"
        },
        "id": "de4cpQQqUPOB",
        "outputId": "e87f5a99-5785-41b6-a6cb-47c701f8c600"
      },
      "source": [
        "lr=0.005\n",
        "W_init=np.zeros([X_train_bar.shape[1],len(train.loc[:,\"label\"].unique())])\n",
        "list_W=[W_init]\n",
        "list_error=[0]\n",
        "for epoch in range(200000):\n",
        "  expi=np.exp(np.matmul(X_train_bar,list_W[-1])) #300 3\n",
        "  expsum=np.sum(expi,axis=1)   #300, \n",
        "  soft1=expi/expsum.reshape(-1,1)  #300 1\n",
        "  a=(-y_train_onehot+soft1)    #300,1\n",
        "  W_temp=np.zeros([X_train_bar.shape[1],y_train_onehot.shape[1]])\n",
        "  #W_temp\n",
        "  for i in range(y_train_onehot.shape[1]):\n",
        "    temp=i+1\n",
        "    W_temp[:,i:temp]=np.mean(a[:,i:temp]*X_train_bar,axis=0).reshape(-1,1)\n",
        "#cal error\n",
        "  W=list_W[-1]-lr*W_temp\n",
        "\n",
        "\n",
        "  for i in range(y_train_onehot.shape[1]):\n",
        "    error=np.exp(np.matmul(X_train_bar,W))/np.sum(np.exp(np.matmul(X_train_bar,W)),axis=1).reshape(-1,1)\n",
        "    error=-y_train_onehot*np.log(error)\n",
        "    error=np.sum(np.mean(error,axis=0))\n",
        "\n",
        "  \n",
        "  list_W.append(W)\n",
        "  list_error.append(error)\n",
        "\n",
        "  if epoch % 10000==0:\n",
        "    print(list_error[-1])\n",
        "\n",
        "  \n",
        "\n",
        "\n"
      ],
      "execution_count": null,
      "outputs": [
        {
          "output_type": "stream",
          "text": [
            "1.0985405995977544\n",
            "0.7680388964163696\n",
            "0.6356433784621851\n",
            "0.5636533070156204\n",
            "0.5179119125649342\n",
            "0.4860495903279405\n",
            "0.46245129089405224\n",
            "0.44418460535287996\n",
            "0.4295650300425287\n",
            "0.41755506668146863\n",
            "0.4074804688935484\n",
            "0.39888385128555404\n",
            "0.39144381444321563\n",
            "0.3849277454102933\n",
            "0.3791629993423992\n",
            "0.374018623731808\n",
            "0.3693933867448064\n",
            "0.3652077120339552\n",
            "0.36139811023917934\n",
            "0.35791324994857887\n"
          ],
          "name": "stdout"
        }
      ]
    },
    {
      "cell_type": "code",
      "metadata": {
        "id": "s3fNzxoaSiX7"
      },
      "source": [
        "expi=np.exp(np.matmul(X_test_bar,list_W[-1])) #300 3\n",
        "expsum=np.sum(expi,axis=1)   #300, \n",
        "soft1=expi/expsum.reshape(-1,1)\n",
        "soft1\n",
        "\n"
      ],
      "execution_count": null,
      "outputs": []
    },
    {
      "cell_type": "code",
      "metadata": {
        "colab": {
          "base_uri": "https://localhost:8080/"
        },
        "id": "1ALRznusdjbK",
        "outputId": "5e54604b-9eb2-4ddd-a429-da18bc4ab208"
      },
      "source": [
        "expi=np.exp(np.matmul(X_test_bar,list_W[-1])) \n",
        "expsum=np.sum(expi,axis=1)   \n",
        "#Kết quả\n",
        "np.mean(y_test.reshape(-1)==np.argmax(expi/expsum.reshape(-1,1),axis=1))"
      ],
      "execution_count": null,
      "outputs": [
        {
          "output_type": "execute_result",
          "data": {
            "text/plain": [
              "0.6066666666666667"
            ]
          },
          "metadata": {
            "tags": []
          },
          "execution_count": 599
        }
      ]
    },
    {
      "cell_type": "code",
      "metadata": {
        "colab": {
          "base_uri": "https://localhost:8080/"
        },
        "id": "KMce80kFIE8z",
        "outputId": "7ee09222-b643-43fb-bbdd-efc8ec7d8526"
      },
      "source": [
        "#dùng sklearn\n",
        "from sklearn.linear_model import LogisticRegression\n",
        "clf = LogisticRegression(random_state=0).fit(X_train, y_train)\n",
        "clf.score(X_test,y_test)"
      ],
      "execution_count": null,
      "outputs": [
        {
          "output_type": "stream",
          "text": [
            "/usr/local/lib/python3.7/dist-packages/sklearn/utils/validation.py:760: DataConversionWarning: A column-vector y was passed when a 1d array was expected. Please change the shape of y to (n_samples, ), for example using ravel().\n",
            "  y = column_or_1d(y, warn=True)\n"
          ],
          "name": "stderr"
        },
        {
          "output_type": "execute_result",
          "data": {
            "text/plain": [
              "0.6066666666666667"
            ]
          },
          "metadata": {
            "tags": []
          },
          "execution_count": 600
        }
      ]
    },
    {
      "cell_type": "markdown",
      "metadata": {
        "id": "e5z4FCnqAmtE"
      },
      "source": [
        "#Bài tập"
      ]
    },
    {
      "cell_type": "markdown",
      "metadata": {
        "id": "S8kP3tKp_IxN"
      },
      "source": [
        "1. Hãy xây dựng mô hình logistic regression bằng tất cả các features trong file heart, so sánh với thư viện sklearn.\n",
        "2. Hãy xây dựng mô hình softmax regression trên bộ Iris (nên Normalize data), so sánh với thư viện sklearn."
      ]
    },
    {
      "cell_type": "code",
      "metadata": {
        "id": "5ojNkDSlAcmD"
      },
      "source": [
        "from sklearn import datasets\n",
        "\n",
        "# import some data to play with\n",
        "iris = datasets.load_iris()\n",
        "X = iris.data\n",
        "y = iris.target\n",
        "\n",
        "X_train, X_test, y_train, y_test = train_test_split(\n",
        "  X, y, test_size=0.33, random_state=42)\n",
        "\n",
        "\n",
        "max=np.max(X_train,axis=0)\n",
        "min=np.min(X_train,axis=0)\n",
        "\n",
        "X_train=(X_train-min)/(max-min)\n",
        "X_test=(X_test-min)/(max-min)\n",
        "\n",
        "\n",
        "y_train_onehot = np.zeros( (y_train.size, y_train.max() + 1),dtype=int)\n",
        "y_train_onehot[np.arange(y_train.size), y_train.reshape(-1)] = 1\n",
        "\n",
        "y_test_onehot = np.zeros( (y_test.size, y_test.max() + 1) ,dtype=int)\n",
        "y_test_onehot[np.arange(y_test.size), y_test.reshape(-1)] = 1\n",
        "\n",
        "\n",
        "X_train_bar=np.concatenate([np.ones([X_train.shape[0],1]),X_train],axis=1)\n",
        "X_test_bar=np.concatenate([np.ones([X_test.shape[0],1]),X_test],axis=1)\n",
        "X_test_bar.shape"
      ],
      "execution_count": null,
      "outputs": []
    }
  ]
}