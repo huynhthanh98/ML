{
  "nbformat": 4,
  "nbformat_minor": 0,
  "metadata": {
    "colab": {
      "name": "  lab-04",
      "provenance": [],
      "collapsed_sections": [],
      "toc_visible": true
    },
    "kernelspec": {
      "name": "python3",
      "display_name": "Python 3"
    },
    "language_info": {
      "name": "python"
    }
  },
  "cells": [
    {
      "cell_type": "markdown",
      "metadata": {
        "id": "9rGoUQXwYdOk"
      },
      "source": [
        "**lab 04: Naive Bayes**\n",
        "\n",
        "Ta  có $X_i=(x_i^1,x_i^2,...,x_i^n)$ là một sample có n features, với $c$ labels ($C_1,C_2,...C_c$). Ta muốn chọn được label cho sample $X_i$ thì dựa vào:\n",
        "$$C=\\mathop{argmax}_{C_j, j=\\overline{1,c}}P(C_j|X_i)$$\n",
        "Giả sử các thành phần của biến ngẫu nhiên X độc lập với nhau, ta được: \n",
        "$$C=\\mathop{argmax}_{C_j, j=\\overline{1,c}}P(C_j)\\prod_{i=1}^n P(X_i|C_j)$$\n",
        "\n",
        "Tóm lại: với mỗi label $C_j$ ta tính tích $P(C_j)\\prod_{i=1}^n P(X_i|C_j)$ và so sánh chúng với nhau từ đó chọn ra được label mang giá trị lớn nhất\n",
        "\n",
        "Một số phân phối:\n",
        "1. Multinomial\n",
        "\n",
        "2. Gaussian\n"
      ]
    },
    {
      "cell_type": "code",
      "metadata": {
        "id": "SzGB6MDLsp09"
      },
      "source": [
        "import pandas as pd\n",
        "import numpy as np"
      ],
      "execution_count": 1,
      "outputs": []
    },
    {
      "cell_type": "code",
      "metadata": {
        "colab": {
          "base_uri": "https://localhost:8080/",
          "height": 229
        },
        "id": "4__ub1vIiYeV",
        "outputId": "50271515-b34f-4a20-9011-276b043434de"
      },
      "source": [
        "data=pd.read_csv('https://raw.githubusercontent.com/huynhthanh98/ML/master/lab-04/train.csv')\n",
        "data.head()"
      ],
      "execution_count": 2,
      "outputs": [
        {
          "output_type": "execute_result",
          "data": {
            "text/html": [
              "<div>\n",
              "<style scoped>\n",
              "    .dataframe tbody tr th:only-of-type {\n",
              "        vertical-align: middle;\n",
              "    }\n",
              "\n",
              "    .dataframe tbody tr th {\n",
              "        vertical-align: top;\n",
              "    }\n",
              "\n",
              "    .dataframe thead th {\n",
              "        text-align: right;\n",
              "    }\n",
              "</style>\n",
              "<table border=\"1\" class=\"dataframe\">\n",
              "  <thead>\n",
              "    <tr style=\"text-align: right;\">\n",
              "      <th></th>\n",
              "      <th>PassengerId</th>\n",
              "      <th>Survived</th>\n",
              "      <th>Pclass</th>\n",
              "      <th>Name</th>\n",
              "      <th>Sex</th>\n",
              "      <th>Age</th>\n",
              "      <th>SibSp</th>\n",
              "      <th>Parch</th>\n",
              "      <th>Ticket</th>\n",
              "      <th>Fare</th>\n",
              "      <th>Cabin</th>\n",
              "      <th>Embarked</th>\n",
              "    </tr>\n",
              "  </thead>\n",
              "  <tbody>\n",
              "    <tr>\n",
              "      <th>0</th>\n",
              "      <td>1</td>\n",
              "      <td>0</td>\n",
              "      <td>3</td>\n",
              "      <td>Braund, Mr. Owen Harris</td>\n",
              "      <td>male</td>\n",
              "      <td>22.0</td>\n",
              "      <td>1</td>\n",
              "      <td>0</td>\n",
              "      <td>A/5 21171</td>\n",
              "      <td>7.2500</td>\n",
              "      <td>NaN</td>\n",
              "      <td>S</td>\n",
              "    </tr>\n",
              "    <tr>\n",
              "      <th>1</th>\n",
              "      <td>2</td>\n",
              "      <td>1</td>\n",
              "      <td>1</td>\n",
              "      <td>Cumings, Mrs. John Bradley (Florence Briggs Th...</td>\n",
              "      <td>female</td>\n",
              "      <td>38.0</td>\n",
              "      <td>1</td>\n",
              "      <td>0</td>\n",
              "      <td>PC 17599</td>\n",
              "      <td>71.2833</td>\n",
              "      <td>C85</td>\n",
              "      <td>C</td>\n",
              "    </tr>\n",
              "    <tr>\n",
              "      <th>2</th>\n",
              "      <td>3</td>\n",
              "      <td>1</td>\n",
              "      <td>3</td>\n",
              "      <td>Heikkinen, Miss. Laina</td>\n",
              "      <td>female</td>\n",
              "      <td>26.0</td>\n",
              "      <td>0</td>\n",
              "      <td>0</td>\n",
              "      <td>STON/O2. 3101282</td>\n",
              "      <td>7.9250</td>\n",
              "      <td>NaN</td>\n",
              "      <td>S</td>\n",
              "    </tr>\n",
              "    <tr>\n",
              "      <th>3</th>\n",
              "      <td>4</td>\n",
              "      <td>1</td>\n",
              "      <td>1</td>\n",
              "      <td>Futrelle, Mrs. Jacques Heath (Lily May Peel)</td>\n",
              "      <td>female</td>\n",
              "      <td>35.0</td>\n",
              "      <td>1</td>\n",
              "      <td>0</td>\n",
              "      <td>113803</td>\n",
              "      <td>53.1000</td>\n",
              "      <td>C123</td>\n",
              "      <td>S</td>\n",
              "    </tr>\n",
              "    <tr>\n",
              "      <th>4</th>\n",
              "      <td>5</td>\n",
              "      <td>0</td>\n",
              "      <td>3</td>\n",
              "      <td>Allen, Mr. William Henry</td>\n",
              "      <td>male</td>\n",
              "      <td>35.0</td>\n",
              "      <td>0</td>\n",
              "      <td>0</td>\n",
              "      <td>373450</td>\n",
              "      <td>8.0500</td>\n",
              "      <td>NaN</td>\n",
              "      <td>S</td>\n",
              "    </tr>\n",
              "  </tbody>\n",
              "</table>\n",
              "</div>"
            ],
            "text/plain": [
              "   PassengerId  Survived  Pclass  ...     Fare Cabin  Embarked\n",
              "0            1         0       3  ...   7.2500   NaN         S\n",
              "1            2         1       1  ...  71.2833   C85         C\n",
              "2            3         1       3  ...   7.9250   NaN         S\n",
              "3            4         1       1  ...  53.1000  C123         S\n",
              "4            5         0       3  ...   8.0500   NaN         S\n",
              "\n",
              "[5 rows x 12 columns]"
            ]
          },
          "metadata": {
            "tags": []
          },
          "execution_count": 2
        }
      ]
    },
    {
      "cell_type": "markdown",
      "metadata": {
        "id": "49IXnfddkUCC"
      },
      "source": [
        "Đây là data thống kê các hành khách trên con tàu Titanic, trong đó:\n",
        "PassengerId là Id hành khách\n",
        "\n",
        "Survived là sống sót hay không (giá trị dự đoán). 1 là có, 0 là không\n",
        "\n",
        "Pclass: Loại vé [1,2,3]\n",
        "\n",
        "Name tên hành khách\n",
        "\n",
        "Age tuổi hành khách\n",
        "\n",
        "Parch: Số anh cha mẹ/con trên tàu\n",
        "\n",
        "SibSp: Số anh chị em/ vợ chông trên tàu\n",
        "\n",
        "ticket: mã  vé\n",
        "\n",
        "fare: Phí hành khách\n",
        "\n",
        "cabin: số khoang\n",
        "\n",
        "Embarked: Cảng lên tàu\n",
        "\n",
        "Chúng ta sẽ dự đoán với tất cả features trên thì ai có khả năng sống sót được.\n"
      ]
    },
    {
      "cell_type": "code",
      "metadata": {
        "id": "0YKuwreQBtms"
      },
      "source": [
        "data=data.drop([\"Cabin\",\"Age\"],axis=1)\n",
        "data=data.dropna()"
      ],
      "execution_count": 3,
      "outputs": []
    },
    {
      "cell_type": "code",
      "metadata": {
        "id": "vYa4CfuXBvtM"
      },
      "source": [
        "from sklearn.model_selection import train_test_split\n",
        "data_train, data_test = train_test_split( data, test_size=0.2\n",
        "                                                    , random_state=42)\n"
      ],
      "execution_count": 4,
      "outputs": []
    },
    {
      "cell_type": "code",
      "metadata": {
        "colab": {
          "base_uri": "https://localhost:8080/"
        },
        "id": "FoRn0yUCB0xy",
        "outputId": "8819190a-cdd7-4288-8ed7-630191afc200"
      },
      "source": [
        "#Phân tích thử các giá trị có trong mỗi feature\n",
        "for i in data_train.drop(labels=[\"Name\",\"Ticket\",\"PassengerId\"],axis=1).columns:\n",
        "  print(i)\n",
        "  print(data_train[i].unique())"
      ],
      "execution_count": 5,
      "outputs": [
        {
          "output_type": "stream",
          "text": [
            "Survived\n",
            "[1 0]\n",
            "Pclass\n",
            "[1 3 2]\n",
            "Sex\n",
            "['female' 'male']\n",
            "SibSp\n",
            "[0 1 8 5 4 2 3]\n",
            "Parch\n",
            "[0 2 1 3 6 4 5]\n",
            "Fare\n",
            "[151.55    14.4542   7.925   69.55    46.9     31.275    7.8958  35.5\n",
            "   0.      26.      23.25    15.5      7.7875  13.5      6.4958  26.55\n",
            "   7.5208   7.2292  53.1     25.4667  31.3875   8.6625  34.0208   7.125\n",
            "  52.       7.8875  14.4583  83.1583   8.05    90.       7.725   39.6\n",
            "  21.075    7.7333   7.25    77.2875   9.5     12.65    10.5     55.\n",
            "   7.6292   7.75     7.8542  24.15    57.9792  15.      39.6875   7.225\n",
            " 227.525   17.8      9.5875 113.275    7.8292  13.      30.5      9.\n",
            "  71.       4.0125   7.05    78.85     8.85    27.75    27.7208 153.4625\n",
            "   8.3     19.2583  14.5    133.65    76.7292  26.2833  20.525    7.8792\n",
            "  29.7     15.7417  30.6958  51.8625  81.8583  56.4958  39.       7.4958\n",
            "   7.7958   7.55    12.      93.5     21.      12.35    16.1     78.2667\n",
            "  35.      55.9      7.8     30.      18.      26.2875  83.475   59.4\n",
            "  77.9583  28.7125  56.9292   7.65    22.3583  20.575  134.5     37.0042\n",
            "  41.5792  25.925    7.7375  15.2458 512.3292  18.75    66.6    110.8833\n",
            "  16.      86.5     19.9667  33.      16.7    135.6333  11.5     30.0708\n",
            "   8.0292  27.      24.     221.7792 263.     262.375   91.0792  26.25\n",
            "  79.65    50.      12.2875   7.3125  79.2     36.75    29.125   19.5\n",
            "  34.375  247.5208   8.5167  12.275    7.1417  20.25    57.      52.5542\n",
            "   6.75     6.45    15.55    69.3     55.4417  20.2125   9.225   13.8583\n",
            "   6.4375   8.1125  33.5     12.525   11.2417   7.775   49.5042 120.\n",
            "  61.3792  49.5     29.     164.8667  15.05    23.      10.5167  11.1333\n",
            "  21.6792  23.45     9.35    14.4     82.1708 146.5208  14.1083   7.875\n",
            "  73.5     12.475    8.1375   7.0542  89.1042  26.3875  15.9      6.95\n",
            "   6.2375  22.025   32.5     15.85    27.9     32.3208  18.7875  15.1\n",
            "   9.825    5.       9.8417   6.8583   8.6833 211.5     13.7917  65.\n",
            "  34.6542  13.4167 211.3375  76.2917  25.9292  13.8625  15.0458   6.975\n",
            "  50.4958   9.475   38.5     31.       7.7417   7.0458  71.2833  61.175\n",
            "   7.7292 108.9     10.1708  15.75    25.5875  28.5      8.6542]\n",
            "Embarked\n",
            "['S' 'C' 'Q']\n"
          ],
          "name": "stdout"
        }
      ]
    },
    {
      "cell_type": "code",
      "metadata": {
        "id": "YNWgclZ5B349"
      },
      "source": [
        "def get_features(data=data_train):\n",
        "  Survived=data[\"Survived\"].values\n",
        "  Pclass=data[\"Pclass\"].values\n",
        "  Sex=data[\"Sex\"].values\n",
        "  SibSp=data[\"SibSp\"].values\n",
        "  Parch=data[\"Parch\"].values\n",
        "  Embarked=data[\"Embarked\"].values\n",
        "  Fare=data[\"Fare\"].values\n",
        "  return Survived, Pclass, Sex, SibSp, Parch, Embarked,Fare\n",
        "\n",
        "Survived_train, Pclass_train, Sex_train, SibSp_train, Parch_train,Embarked_train,Fare_train=get_features()\n",
        "Survived_test, Pclass_test, Sex_test, SibSp_test, Parch_test,Embarked_test,Fare_test=get_features(data=data_test)\n",
        "\n"
      ],
      "execution_count": 6,
      "outputs": []
    },
    {
      "cell_type": "markdown",
      "metadata": {
        "id": "eJGq306hoPnt"
      },
      "source": [
        "#Muinomial"
      ]
    },
    {
      "cell_type": "code",
      "metadata": {
        "colab": {
          "base_uri": "https://localhost:8080/",
          "height": 195
        },
        "id": "0BAxL1tFGepS",
        "outputId": "cd16b313-1476-4d3d-ec03-4f00e29e394b"
      },
      "source": [
        "data.head()"
      ],
      "execution_count": 7,
      "outputs": [
        {
          "output_type": "execute_result",
          "data": {
            "text/html": [
              "<div>\n",
              "<style scoped>\n",
              "    .dataframe tbody tr th:only-of-type {\n",
              "        vertical-align: middle;\n",
              "    }\n",
              "\n",
              "    .dataframe tbody tr th {\n",
              "        vertical-align: top;\n",
              "    }\n",
              "\n",
              "    .dataframe thead th {\n",
              "        text-align: right;\n",
              "    }\n",
              "</style>\n",
              "<table border=\"1\" class=\"dataframe\">\n",
              "  <thead>\n",
              "    <tr style=\"text-align: right;\">\n",
              "      <th></th>\n",
              "      <th>PassengerId</th>\n",
              "      <th>Survived</th>\n",
              "      <th>Pclass</th>\n",
              "      <th>Name</th>\n",
              "      <th>Sex</th>\n",
              "      <th>SibSp</th>\n",
              "      <th>Parch</th>\n",
              "      <th>Ticket</th>\n",
              "      <th>Fare</th>\n",
              "      <th>Embarked</th>\n",
              "    </tr>\n",
              "  </thead>\n",
              "  <tbody>\n",
              "    <tr>\n",
              "      <th>0</th>\n",
              "      <td>1</td>\n",
              "      <td>0</td>\n",
              "      <td>3</td>\n",
              "      <td>Braund, Mr. Owen Harris</td>\n",
              "      <td>male</td>\n",
              "      <td>1</td>\n",
              "      <td>0</td>\n",
              "      <td>A/5 21171</td>\n",
              "      <td>7.2500</td>\n",
              "      <td>S</td>\n",
              "    </tr>\n",
              "    <tr>\n",
              "      <th>1</th>\n",
              "      <td>2</td>\n",
              "      <td>1</td>\n",
              "      <td>1</td>\n",
              "      <td>Cumings, Mrs. John Bradley (Florence Briggs Th...</td>\n",
              "      <td>female</td>\n",
              "      <td>1</td>\n",
              "      <td>0</td>\n",
              "      <td>PC 17599</td>\n",
              "      <td>71.2833</td>\n",
              "      <td>C</td>\n",
              "    </tr>\n",
              "    <tr>\n",
              "      <th>2</th>\n",
              "      <td>3</td>\n",
              "      <td>1</td>\n",
              "      <td>3</td>\n",
              "      <td>Heikkinen, Miss. Laina</td>\n",
              "      <td>female</td>\n",
              "      <td>0</td>\n",
              "      <td>0</td>\n",
              "      <td>STON/O2. 3101282</td>\n",
              "      <td>7.9250</td>\n",
              "      <td>S</td>\n",
              "    </tr>\n",
              "    <tr>\n",
              "      <th>3</th>\n",
              "      <td>4</td>\n",
              "      <td>1</td>\n",
              "      <td>1</td>\n",
              "      <td>Futrelle, Mrs. Jacques Heath (Lily May Peel)</td>\n",
              "      <td>female</td>\n",
              "      <td>1</td>\n",
              "      <td>0</td>\n",
              "      <td>113803</td>\n",
              "      <td>53.1000</td>\n",
              "      <td>S</td>\n",
              "    </tr>\n",
              "    <tr>\n",
              "      <th>4</th>\n",
              "      <td>5</td>\n",
              "      <td>0</td>\n",
              "      <td>3</td>\n",
              "      <td>Allen, Mr. William Henry</td>\n",
              "      <td>male</td>\n",
              "      <td>0</td>\n",
              "      <td>0</td>\n",
              "      <td>373450</td>\n",
              "      <td>8.0500</td>\n",
              "      <td>S</td>\n",
              "    </tr>\n",
              "  </tbody>\n",
              "</table>\n",
              "</div>"
            ],
            "text/plain": [
              "   PassengerId  Survived  Pclass  ...            Ticket     Fare  Embarked\n",
              "0            1         0       3  ...         A/5 21171   7.2500         S\n",
              "1            2         1       1  ...          PC 17599  71.2833         C\n",
              "2            3         1       3  ...  STON/O2. 3101282   7.9250         S\n",
              "3            4         1       1  ...            113803  53.1000         S\n",
              "4            5         0       3  ...            373450   8.0500         S\n",
              "\n",
              "[5 rows x 10 columns]"
            ]
          },
          "metadata": {
            "tags": []
          },
          "execution_count": 7
        }
      ]
    },
    {
      "cell_type": "markdown",
      "metadata": {
        "id": "BzoPEtjno7yv"
      },
      "source": [
        "P(Survived)*P(X|Survived)\n",
        "\n",
        "P(notSurvived)*P(X|notSurvived)"
      ]
    },
    {
      "cell_type": "code",
      "metadata": {
        "id": "BzmDzMinnFHR"
      },
      "source": [
        "#Xác xuất tiên nghiệm. \n",
        "P_Survived=0.5\n",
        "P_notSurvived=0.5\n",
        "#Sex\n",
        "##Survived\n",
        "P_SexisMale_Survived= np.sum((Sex_train[Survived_train==1]==\"male\"))/np.sum((Survived_train==1))\n",
        "P_SexisFemale_Survived=np.sum((Sex_train[Survived_train==1]==\"female\"))/np.sum((Survived_train==1))\n",
        "##Tính xác xuất hậu nghiệm trên tập (P(X|Survived) trên tập test)\n",
        "P_Sex_Survived= P_SexisMale_Survived*(Sex_test==\"male\").astype(float) +P_SexisFemale_Survived*(Sex_test==\"female\").astype(float)\n",
        "\n",
        "##notSurvivied\n",
        "P_SexisMale_notSurvived= np.sum((Sex_train[Survived_train==0]==\"male\"))/np.sum((Survived_train==0))\n",
        "P_SexisFemale_notSurvived=np.sum((Sex_train[Survived_train==0]==\"female\"))/np.sum((Survived_train==0))\n",
        "##Tính xác xuất hậu nghiệm trên tập (P(X|notSurvived) trên tập test)\n",
        "P_Sex_notSurvived= P_SexisMale_notSurvived*(Sex_test==\"male\").astype(float) +P_SexisFemale_notSurvived*(Sex_test==\"female\").astype(float)"
      ],
      "execution_count": 8,
      "outputs": []
    },
    {
      "cell_type": "code",
      "metadata": {
        "id": "YKVJArZcnaRO"
      },
      "source": [
        "#tích P(Survived|X)*P(Survived)\n",
        "P_Survived_combine=P_Survived*P_Sex_Survived\n",
        "#tích P(notSurvived|X)*P(notSurvived)\n",
        "P_notSurvived_combine=P_notSurvived*P_Sex_notSurvived\n"
      ],
      "execution_count": 10,
      "outputs": []
    },
    {
      "cell_type": "code",
      "metadata": {
        "colab": {
          "base_uri": "https://localhost:8080/"
        },
        "id": "qFZ0nAE5v8R2",
        "outputId": "e6fc63e1-adb8-486e-b6f1-aab7ef27a2e4"
      },
      "source": [
        "np.mean((P_Survived_combine>P_notSurvived_combine).astype(float)==Survived_test)"
      ],
      "execution_count": 13,
      "outputs": [
        {
          "output_type": "execute_result",
          "data": {
            "text/plain": [
              "0.797752808988764"
            ]
          },
          "metadata": {
            "tags": []
          },
          "execution_count": 13
        }
      ]
    },
    {
      "cell_type": "code",
      "metadata": {
        "id": "31-hoQ1jn-Hd"
      },
      "source": [
        "#Kết quả\n",
        "np.mean((P_Survived_combine>P_notSurvived_combine).astype(float)==Survived_test)"
      ],
      "execution_count": null,
      "outputs": []
    },
    {
      "cell_type": "code",
      "metadata": {
        "id": "WYCLe1qvoFBr",
        "colab": {
          "base_uri": "https://localhost:8080/"
        },
        "outputId": "12418f93-606f-469d-994f-0eb86c7ce56a"
      },
      "source": [
        "\n",
        "## Dùng sklearn\n",
        "from sklearn.naive_bayes import CategoricalNB\n",
        "Sex_train1= (Sex_train.reshape(-1,1) == 'male').astype(float)\n",
        "Sex_test1= (Sex_test.reshape(-1,1) == 'male').astype(float)\n",
        "nb = CategoricalNB(alpha=1.0e-10).fit(Sex_train1, Survived_train)\n",
        "\n",
        "nb.score(Sex_test1,Survived_test)"
      ],
      "execution_count": 14,
      "outputs": [
        {
          "output_type": "execute_result",
          "data": {
            "text/plain": [
              "0.797752808988764"
            ]
          },
          "metadata": {
            "tags": []
          },
          "execution_count": 14
        }
      ]
    },
    {
      "cell_type": "markdown",
      "metadata": {
        "id": "7r27r2dgobAG"
      },
      "source": [
        "#Gaussian\n",
        "$$p(x_i|c)=P(x_i|\\mu_{ci},\\sigma_{ci}^2)=\\frac{1}{\\sqrt{2\\pi\\sigma_{ci}^2}}exp(-\\frac{(x_i-\\mu_{ci})^2}{2\\sigma_{ci}^2})$$"
      ]
    },
    {
      "cell_type": "code",
      "metadata": {
        "id": "_wniz19GqAdY",
        "colab": {
          "base_uri": "https://localhost:8080/"
        },
        "outputId": "0127d8b8-3dcc-4b8c-fe5f-3e265e5b4ffb"
      },
      "source": [
        "\n",
        "\n",
        "## tính tham số\n",
        "Sibsp_mean_Survived = np.mean(SibSp_train[Survived_train==1])\n",
        "Sibsp_std_Survived = np.std(SibSp_train[Survived_train==1])\n",
        "\n",
        "Sibsp_mean_notSurvived = np.mean(SibSp_train[Survived_train==0])\n",
        "Sibsp_std_notSurvived = np.std(SibSp_train[Survived_train==0])\n",
        "\n",
        "def normal(x, mean, std):\n",
        "    return 1/(np.sqrt(2*np.pi)*std)*np.exp(-np.square(x-mean)/(2*np.square(std)))\n",
        "\n",
        "## P(X|Sur) và P(X|notSur)\n",
        "P_SibSp_Survived = normal(SibSp_test, Sibsp_mean_Survived , Sibsp_std_Survived )\n",
        "P_SibSp_notSurvived = normal(SibSp_test, Sibsp_mean_notSurvived, Sibsp_std_notSurvived)\n",
        "\n",
        "\n",
        "P_Survived_combine=P_Survived*P_SibSp_Survived\n",
        "P_notSurvived_combine= P_notSurvived*P_SibSp_notSurvived\n",
        "\n",
        "print(np.mean((P_Survived_combine>P_notSurvived_combine).astype(int)==Survived_test))\n",
        "\n",
        "## Dùng sklearn\n",
        "from sklearn.naive_bayes import GaussianNB\n",
        "nb = GaussianNB().fit(SibSp_train.reshape(-1,1), Survived_train)\n",
        "print(np.mean(Survived_test == nb.predict(SibSp_test.reshape(-1,1))))\n"
      ],
      "execution_count": 17,
      "outputs": [
        {
          "output_type": "stream",
          "text": [
            "0.38764044943820225\n",
            "0.3707865168539326\n"
          ],
          "name": "stdout"
        }
      ]
    },
    {
      "cell_type": "markdown",
      "metadata": {
        "id": "qHV3q6WcqDXP"
      },
      "source": [
        "Bài tập\n",
        "1. Dùng các features: Sex, Pclass, và Embarked để xây dựng thuật toán Naive Bayes Multinomial. (4đ)\n",
        "2. Dùng các features: SibSp,\tParch, và Fare để xây dựng thuật toán Naive Bayes Gaussian (Khỏi normalize). (4đ)\n",
        "3. Từ bộ dữ liệu liên minh hãy xây dựng thuật toán Naive Bayes bằng cách dùng tất cả features (mix cả Multinomial và Gaussian. Lưu ý: Khỏi chia tập train, test. Dự đoán thẳng trên tập train) (2đ)"
      ]
    },
    {
      "cell_type": "code",
      "metadata": {
        "colab": {
          "base_uri": "https://localhost:8080/",
          "height": 195
        },
        "id": "P__YzVfGq1dr",
        "outputId": "7abf0ca7-c2a3-43d3-de80-f3362bff1093"
      },
      "source": [
        "#Chuẩn bị data cho câu 3\n",
        "import pandas as pd\n",
        "df = pd.read_csv(\"https://raw.githubusercontent.com/dinhvietcuong1996/Lab-MachineLearningCourse/master/Lab04/lienminh.csv\")\n",
        "df.head()"
      ],
      "execution_count": 15,
      "outputs": [
        {
          "output_type": "execute_result",
          "data": {
            "text/html": [
              "<div>\n",
              "<style scoped>\n",
              "    .dataframe tbody tr th:only-of-type {\n",
              "        vertical-align: middle;\n",
              "    }\n",
              "\n",
              "    .dataframe tbody tr th {\n",
              "        vertical-align: top;\n",
              "    }\n",
              "\n",
              "    .dataframe thead th {\n",
              "        text-align: right;\n",
              "    }\n",
              "</style>\n",
              "<table border=\"1\" class=\"dataframe\">\n",
              "  <thead>\n",
              "    <tr style=\"text-align: right;\">\n",
              "      <th></th>\n",
              "      <th>killsDiff</th>\n",
              "      <th>minionsKilledDiff</th>\n",
              "      <th>wardPlacedDiff</th>\n",
              "      <th>firstBlood</th>\n",
              "      <th>heralds</th>\n",
              "      <th>dragons</th>\n",
              "      <th>teamWins</th>\n",
              "    </tr>\n",
              "  </thead>\n",
              "  <tbody>\n",
              "    <tr>\n",
              "      <th>0</th>\n",
              "      <td>3</td>\n",
              "      <td>-2</td>\n",
              "      <td>13</td>\n",
              "      <td>blue</td>\n",
              "      <td>none</td>\n",
              "      <td>none</td>\n",
              "      <td>red</td>\n",
              "    </tr>\n",
              "    <tr>\n",
              "      <th>1</th>\n",
              "      <td>0</td>\n",
              "      <td>-66</td>\n",
              "      <td>0</td>\n",
              "      <td>red</td>\n",
              "      <td>red</td>\n",
              "      <td>red</td>\n",
              "      <td>red</td>\n",
              "    </tr>\n",
              "    <tr>\n",
              "      <th>2</th>\n",
              "      <td>-4</td>\n",
              "      <td>-17</td>\n",
              "      <td>0</td>\n",
              "      <td>red</td>\n",
              "      <td>none</td>\n",
              "      <td>blue</td>\n",
              "      <td>red</td>\n",
              "    </tr>\n",
              "    <tr>\n",
              "      <th>3</th>\n",
              "      <td>-1</td>\n",
              "      <td>-34</td>\n",
              "      <td>28</td>\n",
              "      <td>red</td>\n",
              "      <td>blue</td>\n",
              "      <td>none</td>\n",
              "      <td>red</td>\n",
              "    </tr>\n",
              "    <tr>\n",
              "      <th>4</th>\n",
              "      <td>0</td>\n",
              "      <td>-15</td>\n",
              "      <td>58</td>\n",
              "      <td>red</td>\n",
              "      <td>none</td>\n",
              "      <td>red</td>\n",
              "      <td>red</td>\n",
              "    </tr>\n",
              "  </tbody>\n",
              "</table>\n",
              "</div>"
            ],
            "text/plain": [
              "   killsDiff  minionsKilledDiff  wardPlacedDiff  ... heralds dragons teamWins\n",
              "0          3                 -2              13  ...    none    none      red\n",
              "1          0                -66               0  ...     red     red      red\n",
              "2         -4                -17               0  ...    none    blue      red\n",
              "3         -1                -34              28  ...    blue    none      red\n",
              "4          0                -15              58  ...    none     red      red\n",
              "\n",
              "[5 rows x 7 columns]"
            ]
          },
          "metadata": {
            "tags": []
          },
          "execution_count": 15
        }
      ]
    },
    {
      "cell_type": "markdown",
      "metadata": {
        "id": "6zcKbREdrB_D"
      },
      "source": [
        "Về cơ bản, Liên Minh Huyền Thoại là một game giữa hai đội Blue và Red với mục tiêu là phá hủy nhà chính đối phương. Mỗi đội có 5 người chơi, mỗi người điều khiển 1 nhân vật. Trong trò chơi, để chiến thắng người chơi có thể:\n",
        "\n",
        "Hạ gục đối phương: thể hiện bằng chỉ số hạ gục (Kills)\n",
        "\n",
        "Hạ gục lính kiếm tiền mua trang bị (MinionsKilled)\n",
        "\n",
        "Cắm mắt để có tầm nhìn, thêm thông tin về đối phương (WardsPlaced)\n",
        "\n",
        "Ăn sứ giả lấy bùa và vật phẩm (Heralds)\n",
        "\n",
        "Ăn bùa rồng (Dragons)\n",
        "\n",
        "Mạng đầu tiên (firstBlood)\n",
        "\n",
        "Đội thắng (teamWins)"
      ]
    },
    {
      "cell_type": "code",
      "metadata": {
        "id": "NMGrR--SrBek"
      },
      "source": [
        "#3\n",
        "killsDiff = df['killsDiff'].values\n",
        "minionsKilledDiff = df['minionsKilledDiff'].values\n",
        "wardPlacedDiff = df['wardPlacedDiff'].values\n",
        "firstBlood = df['firstBlood'].values\n",
        "heralds = df['heralds'].values\n",
        "dragons = df['dragons'].values\n",
        "\n",
        "teamWins = df['teamWins'].values\n",
        "\n",
        "P_blueWins=0.5\n",
        "P_redWins=0.5"
      ],
      "execution_count": 16,
      "outputs": []
    },
    {
      "cell_type": "code",
      "metadata": {
        "id": "X0sVxjDZxOK2"
      },
      "source": [
        ""
      ],
      "execution_count": null,
      "outputs": []
    }
  ]
}