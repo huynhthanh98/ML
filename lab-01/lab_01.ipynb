{
  "nbformat": 4,
  "nbformat_minor": 0,
  "metadata": {
    "colab": {
      "name": "lab 01",
      "provenance": [],
      "collapsed_sections": [
        "LlsK25W21m5I"
      ]
    },
    "kernelspec": {
      "name": "python3",
      "display_name": "Python 3"
    },
    "language_info": {
      "name": "python"
    }
  },
  "cells": [
    {
      "cell_type": "markdown",
      "metadata": {
        "id": "LlsK25W21m5I"
      },
      "source": [
        "##Lab 01 Getting Started "
      ]
    },
    {
      "cell_type": "markdown",
      "metadata": {
        "id": "Ks0Sumz42BN5"
      },
      "source": [
        "#Kiến thức"
      ]
    },
    {
      "cell_type": "markdown",
      "metadata": {
        "id": "HStimfOZ2FES"
      },
      "source": [
        "Ta gọi $x_i=[1,x_{i_1},x_{i_2},...,x_{i_n}]$ là một sample có $n$ features (1 là bias). $X=[x_1,x_2,...,x_N]$ là bộ dữ liệu với $N$ samples. $Y=[y_1,y_2,...,y_N]$ là target values. \n",
        "\n",
        "Ta cần xây dựng một mô hình hồi quy: \n",
        "\n",
        "$$\\hat{Y}=XW$$\n",
        "\n",
        "Với $W\\in R^{n+1\\times 1}$ là một ma trận chứa các weights cần học. $Y\\in R^{N\\times 1}$, $X\\in R^{N\\times n+1}$. lưu ý nếu target value (hay $y$) là một vector thì ta sẽ thay $1$ bằng $m$ với $m$ là số chiều của vector $y$\n",
        "\n",
        "Ta định nghĩa hàm Loss: \n",
        "$$L=\\frac{1}{2}(\\hat{Y}-Y)^2=\\frac{1}{2}(XW-Y)^2$$\n",
        "\n",
        "Đến đây ta muốn $Y$ và $\\hat{Y}$ càng ngày gần nhau do đó ta sẽ tìm W sao cho L nhỏ nhất. Ta sẽ lấy đạo hàm của L theo W ta được\n",
        "$$X^{T}(XW-y)$$\n",
        "cho phương trình trên bằng 0 và giải ra ta được:\n",
        "$$W=(X^{T}X)^{-1}X^Ty$$\n",
        "\n",
        "Ta luôn giả sử $X^TX$ khả nghịch\n"
      ]
    },
    {
      "cell_type": "code",
      "metadata": {
        "id": "C19HEwGt1jE2"
      },
      "source": [
        "#Thư viện\n",
        "import numpy as np \n",
        "import matplotlib.pyplot as plt \n",
        "import random"
      ],
      "execution_count": null,
      "outputs": []
    },
    {
      "cell_type": "code",
      "metadata": {
        "colab": {
          "base_uri": "https://localhost:8080/",
          "height": 300
        },
        "id": "iS7s4mgYNWjb",
        "outputId": "0f80ec53-daec-4a1c-f157-14126a03ebe3"
      },
      "source": [
        "#Tạo X\n",
        "X = np.array([[147, 150, 153, 158, 163, 165, 168, 170, 173, 175, 178, 180, 183]]).T\n",
        "# Tạo Y \n",
        "y = np.array([[ -33+0.5*i[0] + random.randint(1,3) for i in X]]).T\n",
        "# Vẽ thử các điểm dữ liệu\n",
        "plt.plot(X, y, 'ro')\n",
        "plt.axis([140, 190, 45, 75])\n",
        "plt.xlabel('X')\n",
        "plt.ylabel('Y')\n",
        "plt.show()\n",
        "y.shape"
      ],
      "execution_count": null,
      "outputs": [
        {
          "output_type": "display_data",
          "data": {
            "image/png": "[encoded data removed]",
            "text/plain": [
              "<Figure size 432x288 with 1 Axes>"
            ]
          },
          "metadata": {
            "tags": [],
            "needs_background": "light"
          }
        },
        {
          "output_type": "execute_result",
          "data": {
            "text/plain": [
              "(13, 1)"
            ]
          },
          "metadata": {
            "tags": []
          },
          "execution_count": 82
        }
      ]
    },
    {
      "cell_type": "code",
      "metadata": {
        "colab": {
          "base_uri": "https://localhost:8080/",
          "height": 317
        },
        "id": "ReitH2INSEfu",
        "outputId": "814df0ea-215c-4a4a-c9fb-3d6a79576fe8"
      },
      "source": [
        "# Thêm 1 vào X\n",
        "one = np.ones((X.shape[0], 1))\n",
        "Xbar = np.concatenate((one, X), axis = 1)\n",
        "\n",
        "# Tính W\n",
        "A = np.dot(Xbar.T, Xbar)\n",
        "b = np.dot(Xbar.T, y)\n",
        "w = np.dot(np.linalg.pinv(A), b)\n",
        "print('w = ', w)\n",
        "# Tạo một đường thẳng model\n",
        "w_0 = w[0][0]\n",
        "w_1 = w[1][0]\n",
        "x0 = np.linspace(145, 185, 2)\n",
        "y0 = w_0 + w_1*x0\n",
        "\n",
        "# Vẽ fitting line\n",
        "plt.plot(X.T, y.T, 'ro')     # data \n",
        "plt.plot(x0, y0)               # the fitting line\n",
        "plt.axis([140, 190, 45, 75])\n",
        "plt.xlabel('X')\n",
        "plt.ylabel('Y')\n",
        "plt.show()\n"
      ],
      "execution_count": null,
      "outputs": [
        {
          "output_type": "stream",
          "text": [
            "w =  [[-34.32421765]\n",
            " [  0.51766751]]\n"
          ],
          "name": "stdout"
        },
        {
          "output_type": "display_data",
          "data": {
            "image/png": "[encoded data removed]",
            "text/plain": [
              "<Figure size 432x288 with 1 Axes>"
            ]
          },
          "metadata": {
            "tags": [],
            "needs_background": "light"
          }
        }
      ]
    },
    {
      "cell_type": "markdown",
      "metadata": {
        "id": "gXe9tLoeBsS6"
      },
      "source": [
        "#Bài tập"
      ]
    },
    {
      "cell_type": "markdown",
      "metadata": {
        "id": "Z8cHo5plBvTv"
      },
      "source": [
        "1. Hãy dùng bộ dữ liệu dibetes để thiết lập mô hình Linear Regresion\n",
        "2. Hãy tìm target values của diabetes_X_test rồi so sánh với target values trong diabetes_y_test\n",
        "3. Tìm hiểu sklearn và làm lại yêu cầu câu 2 (câu cộng điểm)"
      ]
    },
    {
      "cell_type": "code",
      "metadata": {
        "id": "nO32VivWeViY"
      },
      "source": [
        "from sklearn import datasets\n",
        "diabetes_X, diabetes_y = datasets.load_diabetes(return_X_y=True)\n",
        "diabetes_X_train,diabetes_y_train=diabetes_X[:-2],diabetes_y[:-2].reshape(1,-1).T\n",
        "diabetes_X_test,diabetes_y_test=diabetes_X[-2:],diabetes_y[-2:].reshape(1,-1).T"
      ],
      "execution_count": null,
      "outputs": []
    }
  ]
}