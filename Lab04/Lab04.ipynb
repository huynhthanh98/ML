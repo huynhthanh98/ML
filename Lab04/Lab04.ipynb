{
 "cells": [
  {
   "cell_type": "markdown",
   "metadata": {},
   "source": [
    "# Lab 04: Naive Bayes\n",
    "\n",
    "Trong bài tập này, chúng ta sẽ xây dựng một mô hình dự đoán đội chiến thắng trong một trận đấu Liên Minh Huyền Thoại.\n",
    "\n",
    "Về cơ bản, Liên Minh Huyền Thoại là một game giữa hai đội Blue và Red với mục tiêu là phá hủy nhà chính đối phương. Mỗi đội có 5 người chơi, mỗi người điều khiển 1 nhân vật. Trong trò chơi, để chiến thắng người chơi có thể:\n",
    "- Hạ gục đối phương: thể hiện bằng chỉ số hạ gục (Kills)\n",
    "- Hạ gục lính kiếm tiền mua trang bị (MinionsKilled)\n",
    "- Cắm mắt để có tầm nhìn, thêm thông tin về đối phương (WardsPlaced)\n",
    "- Ăn sứ giả lấy bùa và vật phẩm (Heralds)\n",
    "- Ăn bùa rồng (Dragons)\n",
    "\n",
    "## Data\n",
    "\n",
    "Dựa vào các thông tin trong 10 phút đầu của trận đấu\n",
    "- killsDiff: số mạng hạ gục chênh lêch giữa đội Blue và Red, số nguyên\n",
    "- minionsKilledDiff: số lính hạ gục chênh lêch giữa đội Blue và Red, số nguyên\n",
    "- wardPlacedDiff: số mắt đã cắm chênh lêch giữa đội Blue và Red, số nguyên\n",
    "- firstBlood: đội nào có mạng hạ gục đầu tiên, category: blue hoặc red\n",
    "- heralds: đội nào hạ gục heralds, category: none, blue hoặc red\n",
    "- dragons: đội nào hạ gục dragons, category: none, blue hoặc red\n",
    "\n",
    "Hãy dự đoán đội nào chiến thắng: blue hay red"
   ]
  },
  {
   "cell_type": "code",
   "execution_count": 41,
   "metadata": {},
   "outputs": [
    {
     "data": {
      "text/html": [
       "<div>\n",
       "<style scoped>\n",
       "    .dataframe tbody tr th:only-of-type {\n",
       "        vertical-align: middle;\n",
       "    }\n",
       "\n",
       "    .dataframe tbody tr th {\n",
       "        vertical-align: top;\n",
       "    }\n",
       "\n",
       "    .dataframe thead th {\n",
       "        text-align: right;\n",
       "    }\n",
       "</style>\n",
       "<table border=\"1\" class=\"dataframe\">\n",
       "  <thead>\n",
       "    <tr style=\"text-align: right;\">\n",
       "      <th></th>\n",
       "      <th>killsDiff</th>\n",
       "      <th>minionsKilledDiff</th>\n",
       "      <th>wardPlacedDiff</th>\n",
       "      <th>firstBlood</th>\n",
       "      <th>heralds</th>\n",
       "      <th>dragons</th>\n",
       "      <th>teamWins</th>\n",
       "    </tr>\n",
       "  </thead>\n",
       "  <tbody>\n",
       "    <tr>\n",
       "      <th>0</th>\n",
       "      <td>3</td>\n",
       "      <td>-2</td>\n",
       "      <td>13</td>\n",
       "      <td>blue</td>\n",
       "      <td>none</td>\n",
       "      <td>none</td>\n",
       "      <td>red</td>\n",
       "    </tr>\n",
       "    <tr>\n",
       "      <th>1</th>\n",
       "      <td>0</td>\n",
       "      <td>-66</td>\n",
       "      <td>0</td>\n",
       "      <td>red</td>\n",
       "      <td>red</td>\n",
       "      <td>red</td>\n",
       "      <td>red</td>\n",
       "    </tr>\n",
       "    <tr>\n",
       "      <th>2</th>\n",
       "      <td>-4</td>\n",
       "      <td>-17</td>\n",
       "      <td>0</td>\n",
       "      <td>red</td>\n",
       "      <td>none</td>\n",
       "      <td>blue</td>\n",
       "      <td>red</td>\n",
       "    </tr>\n",
       "    <tr>\n",
       "      <th>3</th>\n",
       "      <td>-1</td>\n",
       "      <td>-34</td>\n",
       "      <td>28</td>\n",
       "      <td>red</td>\n",
       "      <td>blue</td>\n",
       "      <td>none</td>\n",
       "      <td>red</td>\n",
       "    </tr>\n",
       "    <tr>\n",
       "      <th>4</th>\n",
       "      <td>0</td>\n",
       "      <td>-15</td>\n",
       "      <td>58</td>\n",
       "      <td>red</td>\n",
       "      <td>none</td>\n",
       "      <td>red</td>\n",
       "      <td>red</td>\n",
       "    </tr>\n",
       "  </tbody>\n",
       "</table>\n",
       "</div>"
      ],
      "text/plain": [
       "   killsDiff  minionsKilledDiff  wardPlacedDiff firstBlood heralds dragons  \\\n",
       "0          3                 -2              13       blue    none    none   \n",
       "1          0                -66               0        red     red     red   \n",
       "2         -4                -17               0        red    none    blue   \n",
       "3         -1                -34              28        red    blue    none   \n",
       "4          0                -15              58        red    none     red   \n",
       "\n",
       "  teamWins  \n",
       "0      red  \n",
       "1      red  \n",
       "2      red  \n",
       "3      red  \n",
       "4      red  "
      ]
     },
     "execution_count": 41,
     "metadata": {},
     "output_type": "execute_result"
    }
   ],
   "source": [
    "import pandas as pd\n",
    "df = pd.read_csv(\"lienminh.csv\")\n",
    "df.head()"
   ]
  },
  {
   "cell_type": "code",
   "execution_count": 42,
   "metadata": {},
   "outputs": [],
   "source": [
    "killsDiff = df['killsDiff'].values\n",
    "minionsKilledDiff = df['minionsKilledDiff'].values\n",
    "wardPlacedDiff = df['wardPlacedDiff'].values\n",
    "firstBlood = df['firstBlood'].values\n",
    "heralds = df['heralds'].values\n",
    "dragons = df['dragons'].values\n",
    "\n",
    "teamWins = df['teamWins'].values"
   ]
  },
  {
   "cell_type": "markdown",
   "metadata": {},
   "source": [
    "### Analyse xíu"
   ]
  },
  {
   "cell_type": "code",
   "execution_count": 43,
   "metadata": {},
   "outputs": [
    {
     "data": {
      "text/plain": [
       "<matplotlib.legend.Legend at 0x124109130>"
      ]
     },
     "execution_count": 43,
     "metadata": {},
     "output_type": "execute_result"
    },
    {
     "data": {
      "image/png": "[encoded data removed]",
      "text/plain": [
       "<Figure size 432x288 with 1 Axes>"
      ]
     },
     "metadata": {
      "needs_background": "light"
     },
     "output_type": "display_data"
    }
   ],
   "source": [
    "import matplotlib.pyplot as plt\n",
    "## vẽ histogram (phân phối) của chênh lệch mạng hạ gục khi từng đội thắng\n",
    "_ = plt.hist(killsDiff[teamWins=='blue'], bins=100, label='blue wins')\n",
    "_ = plt.hist(killsDiff[teamWins=='red'], bins=100, label='red wins')\n",
    "plt.xlabel(\"Số mạng hạ gục\")\n",
    "plt.ylabel(\"Số trận đấu\")\n",
    "plt.legend()"
   ]
  },
  {
   "cell_type": "code",
   "execution_count": 44,
   "metadata": {},
   "outputs": [
    {
     "data": {
      "text/plain": [
       "array([[1.        , 0.20176926],\n",
       "       [0.20176926, 1.        ]])"
      ]
     },
     "execution_count": 44,
     "metadata": {},
     "output_type": "execute_result"
    }
   ],
   "source": [
    "import numpy as np\n",
    "# tính tương quan tuyến tính (correlation coefficient) giữa  việc hạ gục mạng đầu và chiến thắng\n",
    "np.corrcoef((firstBlood == 'blue').astype(int), (teamWins == 'blue').astype(int))"
   ]
  },
  {
   "cell_type": "markdown",
   "metadata": {},
   "source": [
    "## Categorical Naive Bayes\n",
    "\n",
    "Gọi $X$ là một biến thể hiện đội nào có mạng hạ gục đầu tiên, $X$ có không gian mẫu hữu hạn $\\Omega = \\{blue, red\\}$. Ta muốn đoán xem đội nào thắng dựa vào $X$ bằng cách tính $P(B|X)$ và $P(R|X)$, với $B$ và $R$ lần lượt là biến cố blue và red thắng. Ta giả thuyết\n",
    "$$ P(B|X) = \\frac{P(X|B)P(B)}{P(X|B)P(B) + P(X|R)P(R)}, P(R|X) = 1 - P(B|X).$$\n",
    "$P(B)$ và $P(R)$ là xác suất tiên nghiệm, ta xem như hai tỉ lệ hai đội thắng bằng nhau. \n",
    "\n",
    "Giờ chỉ cần tính $P(X|B)$ và $P(X|R)$."
   ]
  },
  {
   "cell_type": "code",
   "execution_count": 45,
   "metadata": {},
   "outputs": [],
   "source": [
    "## xác suất tiên nghiệm\n",
    "P_blueWins = 0.5\n",
    "P_redWins = 0.5"
   ]
  },
  {
   "cell_type": "code",
   "execution_count": 46,
   "metadata": {},
   "outputs": [],
   "source": [
    "is_bluefirstBlood = (firstBlood == 'blue').astype(float)\n",
    "\n",
    "## tính P(X|B)\n",
    "P_blueFirstBlood_blueWins  = np.sum(firstBlood[teamWins == 'blue'] == 'blue') / np.sum(teamWins == 'blue')\n",
    "P_blueFirstBlood_blueWins = P_blueFirstBlood_blueWins * is_bluefirstBlood + (1-P_blueFirstBlood_blueWins)*(1-is_bluefirstBlood)\n",
    "P_redFirstBlood_blueWins = 1 - P_blueFirstBlood_blueWins\n",
    "\n",
    "## tính P(X|R)\n",
    "P_blueFirstBlood_redWins = np.sum(firstBlood[teamWins == 'red'] == 'blue') / np.sum(teamWins == 'red')\n",
    "P_blueFirstBlood_redWins = P_blueFirstBlood_redWins * is_bluefirstBlood + (1-P_blueFirstBlood_redWins)*(1-is_bluefirstBlood)"
   ]
  },
  {
   "cell_type": "code",
   "execution_count": 47,
   "metadata": {},
   "outputs": [
    {
     "name": "stdout",
     "output_type": "stream",
     "text": [
      "0.6008705334548031\n"
     ]
    }
   ],
   "source": [
    "## P(B|X)\n",
    "P_blueWins_blueFirstBlood = P_blueFirstBlood_blueWins * P_blueWins / (P_blueFirstBlood_blueWins * P_blueWins + P_blueFirstBlood_redWins * P_redWins)\n",
    "acc = np.mean((P_blueWins_blueFirstBlood > 0.5) == (teamWins == 'blue'))\n",
    "print(acc)"
   ]
  },
  {
   "cell_type": "code",
   "execution_count": 48,
   "metadata": {},
   "outputs": [
    {
     "data": {
      "text/plain": [
       "0.6008705334548031"
      ]
     },
     "execution_count": 48,
     "metadata": {},
     "output_type": "execute_result"
    }
   ],
   "source": [
    "## Dùng sklearn\n",
    "from sklearn.naive_bayes import CategoricalNB\n",
    "blueFirstBlood_float = (firstBlood.reshape(-1,1) == 'blue').astype(float)\n",
    "nb = CategoricalNB(alpha=1.0e-10).fit(blueFirstBlood_float, teamWins)\n",
    "np.mean(teamWins == nb.predict(blueFirstBlood_float))"
   ]
  },
  {
   "cell_type": "markdown",
   "metadata": {},
   "source": [
    "## Gaussian Naive Bayes\n",
    "\n",
    "Gọi $X$ là biến thể hiện chênh lệnh mạng hạ gục. Ta muốn đoán xem đội nào thắng dựa vào $X$ bằng cách tính $P(B|X)$ và $P(R|X)$. \n",
    "$$ P(B|X) = \\frac{P(X|B)P(B)}{P(X|B)P(B) + P(X|R)P(R)}, P(R|X) = 1 - P(B|X).$$\n",
    "Ta xấp xỉ $P(X|B)$ có phân phối Gauss: \n",
    "$$P(X=x|B) = \\frac{1}{\\sqrt{2\\pi}  \\sigma} e^{-\\frac{(x- \\mu)^2}{2  \\sigma^2}}$$\n",
    "với $ \\mu$ và $ \\sigma$ là trung bình và độ lệch chuẩn của mạng chênh lệch khi Blue thắng\n",
    "$$( \\mu, \\sigma) = \\left( \\frac{1}{n}\\sum_{i, \\text{blue wins}}{x_i}, \\sqrt{\\frac{1}{n} \\sum_{i, \\text{blue wins}} (x_i -  \\mu) ^2}\\right)$$\n",
    "\n",
    "$P(X|R)$ xấp xỉ tương tự."
   ]
  },
  {
   "cell_type": "code",
   "execution_count": 61,
   "metadata": {},
   "outputs": [],
   "source": [
    "## xác suất tiên nghiệm\n",
    "P_blueWins = 0.5\n",
    "P_redWins = 0.5\n",
    "\n",
    "## tính tham số\n",
    "killsDiff_mean_blueWins = np.mean(killsDiff[teamWins == 'blue'])\n",
    "killsDiff_std_blueWins = np.std(killsDiff[teamWins == 'blue'])\n",
    "\n",
    "killsDiff_mean_redWins = np.mean(killsDiff[teamWins == 'red'])\n",
    "killsDiff_std_redWins = np.std(killsDiff[teamWins == 'red'])\n",
    "\n",
    "def normal(x, mean, std):\n",
    "    return 1/(np.sqrt(2*np.pi)*std)*np.exp(-np.square(x-mean)/(2*np.square(std)))\n",
    "\n",
    "## P(X|B) và P(X|R)\n",
    "P_killsDiff_blueWins = normal(killsDiff, killsDiff_mean_blueWins, killsDiff_std_blueWins)\n",
    "P_killsDiff_redWins = normal(killsDiff, killsDiff_mean_redWins, killsDiff_std_redWins)"
   ]
  },
  {
   "cell_type": "code",
   "execution_count": 62,
   "metadata": {},
   "outputs": [
    {
     "data": {
      "text/plain": [
       "0.7042210750075919"
      ]
     },
     "execution_count": 62,
     "metadata": {},
     "output_type": "execute_result"
    }
   ],
   "source": [
    "## P(B|X)\n",
    "P_blueWins_killsDiff = P_killsDiff_blueWins * P_blueWins / (P_killsDiff_blueWins * P_blueWins + P_killsDiff_redWins * P_redWins)\n",
    "## accuracy\n",
    "acc = np.mean((P_blueWins_killsDiff > 0.5) == (teamWins == 'blue'))\n",
    "acc"
   ]
  },
  {
   "cell_type": "code",
   "execution_count": 63,
   "metadata": {},
   "outputs": [
    {
     "data": {
      "text/plain": [
       "0.7042210750075919"
      ]
     },
     "execution_count": 63,
     "metadata": {},
     "output_type": "execute_result"
    }
   ],
   "source": [
    "## Dùng sklearn\n",
    "from sklearn.naive_bayes import GaussianNB\n",
    "nb = GaussianNB().fit(killsDiff.reshape(-1,1), teamWins)\n",
    "np.mean(teamWins == nb.predict(killsDiff.reshape(-1,1)))"
   ]
  },
  {
   "cell_type": "code",
   "execution_count": 66,
   "metadata": {},
   "outputs": [],
   "source": [
    "## xác suất tiên nghiệm\n",
    "P_blueWins = 0.5\n",
    "P_redWins = 0.5\n",
    "\n",
    "## tính tham số\n",
    "minionsKilledDiff_mean_blueWins = np.mean(minionsKilledDiff[teamWins == 'blue'])\n",
    "minionsKilledDiff_std_blueWins = np.std(minionsKilledDiff[teamWins == 'blue'])\n",
    "\n",
    "minionsKilledDiff_mean_redWins = np.mean(minionsKilledDiff[teamWins == 'red'])\n",
    "minionsKilledDiff_std_redWins = np.std(minionsKilledDiff[teamWins == 'red'])\n",
    "\n",
    "def normal(x, mean, std):\n",
    "    return 1/(np.sqrt(2*np.pi)*std)*np.exp(-np.square(x-mean)/(2*np.square(std)))\n",
    "\n",
    "## P(X|B) và P(X|R)\n",
    "P_minionsKilledDiff_blueWins = normal(minionsKilledDiff, minionsKilledDiff_mean_blueWins, minionsKilledDiff_std_blueWins)\n",
    "P_minionsKilledDiff_redWins = normal(minionsKilledDiff, minionsKilledDiff_mean_redWins, minionsKilledDiff_std_redWins)"
   ]
  },
  {
   "cell_type": "code",
   "execution_count": 67,
   "metadata": {},
   "outputs": [
    {
     "data": {
      "text/plain": [
       "0.6263791881769409"
      ]
     },
     "execution_count": 67,
     "metadata": {},
     "output_type": "execute_result"
    }
   ],
   "source": [
    "## P(B|X)\n",
    "P_blueWins_minionsKilledDiff = P_minionsKilledDiff_blueWins * P_blueWins / (P_minionsKilledDiff_blueWins * P_blueWins + P_minionsKilledDiff_redWins * P_redWins)\n",
    "## accuracy\n",
    "acc = np.mean((P_blueWins_minionsKilledDiff > 0.5) == (teamWins == 'blue'))\n",
    "acc"
   ]
  },
  {
   "cell_type": "code",
   "execution_count": 68,
   "metadata": {},
   "outputs": [
    {
     "data": {
      "text/plain": [
       "0.6263791881769409"
      ]
     },
     "execution_count": 68,
     "metadata": {},
     "output_type": "execute_result"
    }
   ],
   "source": [
    "## Dùng sklearn\n",
    "from sklearn.naive_bayes import GaussianNB\n",
    "nb = GaussianNB().fit(minionsKilledDiff.reshape(-1,1), teamWins)\n",
    "np.mean(teamWins == nb.predict(minionsKilledDiff.reshape(-1,1)))"
   ]
  },
  {
   "cell_type": "markdown",
   "metadata": {},
   "source": [
    "## Bài tập\n",
    "\n",
    "Hãy xây dựng mô hình Naive Bayes sử dụng tất các cả thông tin mà dữ liệu cho:\n",
    "- killsDiff, minionsKilledDiff, wardPlacedDiff: xấp xỉ bằng phân mối normal\n",
    "- firstBlood, heralds, dragons: xấp xỉ bằng phân phối category\n",
    "\n",
    "Note: kết quả không nhất thiết tốt hơn, quan trọng phải đúng\n",
    "\n",
    "## Nộp bài\n",
    "- Code và chạy kết quả lưu vào file notebook NMMH_TH4_MSSV.ipynb (notebook phải có kết quả chạy nếu ko xem như chưa làm)\n",
    "- Nén thành file NMMH_TH4_MSSV.rar (.zip) và nộp về: dinhvietcuong1996@gmail.com\n",
    "- Deadline: 23g59 thứ 3 ngày 16/06/2020. Nộp trễ bị chia đôi số điểm."
   ]
  },
  {
   "cell_type": "code",
   "execution_count": null,
   "metadata": {},
   "outputs": [],
   "source": []
  },
  {
   "cell_type": "code",
   "execution_count": null,
   "metadata": {},
   "outputs": [],
   "source": []
  },
  {
   "cell_type": "code",
   "execution_count": null,
   "metadata": {},
   "outputs": [],
   "source": []
  }
 ],
 "metadata": {
  "kernelspec": {
   "display_name": "Python 3 (ipykernel)",
   "language": "python",
   "name": "python3"
  },
  "language_info": {
   "codemirror_mode": {
    "name": "ipython",
    "version": 3
   },
   "file_extension": ".py",
   "mimetype": "text/x-python",
   "name": "python",
   "nbconvert_exporter": "python",
   "pygments_lexer": "ipython3",
   "version": "3.8.11"
  }
 },
 "nbformat": 4,
 "nbformat_minor": 4
}
